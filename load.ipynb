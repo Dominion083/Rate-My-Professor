{
 "cells": [
  {
   "cell_type": "code",
   "execution_count": 2,
   "metadata": {},
   "outputs": [],
   "source": [
    "from dotenv import load_dotenv \n",
    "load_dotenv()\n",
    "import os\n",
    "from openai import OpenAI\n",
    "from pinecone import Pinecone, ServerlessSpec"
   ]
  },
  {
   "cell_type": "code",
   "execution_count": null,
   "metadata": {},
   "outputs": [],
   "source": [
    "\n"
   ]
  },
  {
   "cell_type": "code",
   "execution_count": null,
   "metadata": {},
   "outputs": [],
   "source": [
    "pc = Pinecone(api_key=os.getenv(\"PINECONE_API_KEY\"))\n",
    "pc.create_index(\n",
    "    name=\"rage\", dimension=1536, metric=\"cosine\", spec=ServerlessSpec(cloud=\"aws\", region=\"us-east-1\")\n",
    ")"
   ]
  },
  {
   "cell_type": "code",
   "execution_count": 4,
   "metadata": {},
   "outputs": [
    {
     "data": {
      "text/plain": [
       "[{'professor': 'Dr. Alice Johnson',\n",
       "  'subject': 'Computer Science',\n",
       "  'stars': 5,\n",
       "  'review': 'Dr. Johnson is an excellent professor who makes complex topics easy to understand. Her lectures are engaging, and she is always available for extra help.'},\n",
       " {'professor': 'Prof. Michael Brown',\n",
       "  'subject': 'Mathematics',\n",
       "  'stars': 4,\n",
       "  'review': 'Prof. Brown is very knowledgeable and passionate about math. Sometimes the pace of the class is a bit fast, but overall a great learning experience.'},\n",
       " {'professor': 'Dr. Sarah Lee',\n",
       "  'subject': 'Physics',\n",
       "  'stars': 3,\n",
       "  'review': 'Dr. Lee knows her material well but can be hard to follow at times. The class is challenging, but if you put in the effort, you can do well.'},\n",
       " {'professor': 'Prof. David Smith',\n",
       "  'subject': 'History',\n",
       "  'stars': 2,\n",
       "  'review': \"Prof. Smith's lectures are a bit dry, and he tends to stick to the textbook too much. The course could use more interactive elements.\"},\n",
       " {'professor': 'Dr. Emily Davis',\n",
       "  'subject': 'English Literature',\n",
       "  'stars': 4,\n",
       "  'review': 'Dr. Davis is passionate about literature and encourages deep analysis of texts. Her assignments are tough but fair, and she provides good feedback.'},\n",
       " {'professor': 'Prof. Robert Williams',\n",
       "  'subject': 'Economics',\n",
       "  'stars': 1,\n",
       "  'review': \"Prof. Williams is not very engaging and often seems disorganized. The lectures feel disconnected, and it's hard to follow along.\"},\n",
       " {'professor': 'Dr. Linda Martinez',\n",
       "  'subject': 'Biology',\n",
       "  'stars': 5,\n",
       "  'review': 'Dr. Martinez is fantastic! Her enthusiasm for biology is contagious, and she makes the material accessible and interesting. Highly recommend.'},\n",
       " {'professor': 'Prof. James Wilson',\n",
       "  'subject': 'Philosophy',\n",
       "  'stars': 3,\n",
       "  'review': 'Prof. Wilson is knowledgeable, but his teaching style is very lecture-heavy. If you prefer a more discussion-based class, this might not be for you.'},\n",
       " {'professor': 'Dr. Karen Taylor',\n",
       "  'subject': 'Chemistry',\n",
       "  'stars': 4,\n",
       "  'review': 'Dr. Taylor is a great teacher who is always willing to help. Her labs are well-structured, and she explains the concepts clearly.'},\n",
       " {'professor': 'Prof. William Clark',\n",
       "  'subject': 'Psychology',\n",
       "  'stars': 2,\n",
       "  'review': \"Prof. Clark's lectures can be hard to follow, and he doesn't always explain the material clearly. The class was a bit disappointing overall.\"}]"
      ]
     },
     "execution_count": 4,
     "metadata": {},
     "output_type": "execute_result"
    }
   ],
   "source": [
    "import json\n",
    "data = json.load(open(\"reviews.json\"))\n",
    "data['reviews']"
   ]
  },
  {
   "cell_type": "code",
   "execution_count": 7,
   "metadata": {},
   "outputs": [
    {
     "name": "stdout",
     "output_type": "stream",
     "text": [
      "Error code: 405\n"
     ]
    }
   ],
   "source": [
    "processed_data = []\n",
    "client = OpenAI(base_url=\"https://openrouter.ai/api/v1\", api_key=os.getenv(\"OPENROUTER_API_KEY\"))\n",
    "try:\n",
    "    for review in data['reviews']:\n",
    "        response = client.embeddings.create(\n",
    "            input=review['review'],\n",
    "            model=\"meta-llama/llama-3.1-8b-instruct:free\",    \n",
    "        )\n",
    "\n",
    "        embedding = response.data[0].embedding\n",
    "        processed_data.append({\n",
    "            \"values\": embedding,\n",
    "            \"id\": review[\"professor\"],\n",
    "            \"metadata\": {\n",
    "                \"review\": review[\"review\"],\n",
    "                \"subject\": review[\"subject\"],\n",
    "                \"stars\": review[\"stars\"]\n",
    "            }\n",
    "        })\n",
    "except Exception as e: \n",
    "    print(e)"
   ]
  },
  {
   "cell_type": "code",
   "execution_count": null,
   "metadata": {},
   "outputs": [],
   "source": []
  }
 ],
 "metadata": {
  "kernelspec": {
   "display_name": "rag",
   "language": "python",
   "name": "python3"
  },
  "language_info": {
   "codemirror_mode": {
    "name": "ipython",
    "version": 3
   },
   "file_extension": ".py",
   "mimetype": "text/x-python",
   "name": "python",
   "nbconvert_exporter": "python",
   "pygments_lexer": "ipython3",
   "version": "3.10.4"
  }
 },
 "nbformat": 4,
 "nbformat_minor": 2
}
